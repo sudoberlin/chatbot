{
 "cells": [
  {
   "cell_type": "code",
   "execution_count": 1,
   "metadata": {},
   "outputs": [],
   "source": [
    "#importing libraries"
   ]
  },
  {
   "cell_type": "code",
   "execution_count": 1,
   "metadata": {},
   "outputs": [],
   "source": [
    "import numpy as np\n",
    "import tensorflow as tf\n",
    "import re #clean the text, to simplyfy conversation\n",
    "import time #to measure training time"
   ]
  },
  {
   "cell_type": "code",
   "execution_count": 2,
   "metadata": {},
   "outputs": [
    {
     "ename": "AttributeError",
     "evalue": "module 'tensorflow' has no attribute '__version__'",
     "output_type": "error",
     "traceback": [
      "\u001b[0;31m---------------------------------------------------------------------------\u001b[0m",
      "\u001b[0;31mAttributeError\u001b[0m                            Traceback (most recent call last)",
      "\u001b[0;32m<ipython-input-2-65996cac02ec>\u001b[0m in \u001b[0;36m<module>\u001b[0;34m\u001b[0m\n\u001b[0;32m----> 1\u001b[0;31m \u001b[0mtf\u001b[0m\u001b[0;34m.\u001b[0m\u001b[0m__version__\u001b[0m\u001b[0;34m\u001b[0m\u001b[0;34m\u001b[0m\u001b[0m\n\u001b[0m",
      "\u001b[0;31mAttributeError\u001b[0m: module 'tensorflow' has no attribute '__version__'"
     ]
    }
   ],
   "source": [
    "tf.__version__"
   ]
  },
  {
   "cell_type": "code",
   "execution_count": 3,
   "metadata": {},
   "outputs": [
    {
     "ename": "AttributeError",
     "evalue": "module 'tensorflow' has no attribute 'InteractiveSession'",
     "output_type": "error",
     "traceback": [
      "\u001b[0;31m---------------------------------------------------------------------------\u001b[0m",
      "\u001b[0;31mAttributeError\u001b[0m                            Traceback (most recent call last)",
      "\u001b[0;32m<ipython-input-3-fe5414f8a824>\u001b[0m in \u001b[0;36m<module>\u001b[0;34m\u001b[0m\n\u001b[0;32m----> 1\u001b[0;31m \u001b[0mtf\u001b[0m\u001b[0;34m.\u001b[0m\u001b[0mInteractiveSession\u001b[0m\u001b[0;34m(\u001b[0m\u001b[0;34m)\u001b[0m\u001b[0;34m\u001b[0m\u001b[0;34m\u001b[0m\u001b[0m\n\u001b[0m",
      "\u001b[0;31mAttributeError\u001b[0m: module 'tensorflow' has no attribute 'InteractiveSession'"
     ]
    }
   ],
   "source": [
    "tf.InteractiveSession()"
   ]
  },
  {
   "cell_type": "code",
   "execution_count": 116,
   "metadata": {},
   "outputs": [],
   "source": [
    "#part 1 - data preprocessing"
   ]
  },
  {
   "cell_type": "code",
   "execution_count": 117,
   "metadata": {},
   "outputs": [],
   "source": [
    "#importing dataset\n",
    "\n",
    "#import os\n",
    "\n",
    "#path ='/home/shubh/Desktop/chatbot dataset'\n",
    "\n",
    "#file = 'movie_lines.txt'\n",
    "\n",
    "#lines = open(os.path.join(path,file))\n",
    "\n",
    "lines = open('/home/shubh/Desktop/chatbot dataset/movie_lines.txt', encoding = 'utf-8', errors = \"ignore\").read().split('\\n') \n",
    "conversations = open('/home/shubh/Desktop/chatbot dataset/movie_conversations.txt', encoding = 'utf-8', errors = \"ignore\").read().split('\\n')"
   ]
  },
  {
   "cell_type": "raw",
   "metadata": {},
   "source": []
  },
  {
   "cell_type": "code",
   "execution_count": 118,
   "metadata": {},
   "outputs": [],
   "source": [
    "# here in conversation and in lines -represents-> u- user, & m- movies following to their conversations "
   ]
  },
  {
   "cell_type": "code",
   "execution_count": 119,
   "metadata": {},
   "outputs": [],
   "source": [
    "#conversations"
   ]
  },
  {
   "cell_type": "code",
   "execution_count": 120,
   "metadata": {},
   "outputs": [],
   "source": [
    "#lines"
   ]
  },
  {
   "cell_type": "code",
   "execution_count": 121,
   "metadata": {},
   "outputs": [],
   "source": [
    "# creating a dictionary that maps each line and its id\n",
    "\n",
    "id2line = {}\n",
    "for line in lines :\n",
    "    _line = line.split(' +++$+++ ')\n",
    "    if len(_line) == 5:\n",
    "        id2line[_line[0]] = _line[4]"
   ]
  },
  {
   "cell_type": "code",
   "execution_count": 122,
   "metadata": {},
   "outputs": [],
   "source": [
    "#id2line"
   ]
  },
  {
   "cell_type": "code",
   "execution_count": 123,
   "metadata": {},
   "outputs": [],
   "source": [
    "#line"
   ]
  },
  {
   "cell_type": "code",
   "execution_count": 124,
   "metadata": {},
   "outputs": [],
   "source": [
    "#creating the list of all conversations\n",
    "\n",
    "conversations_ids = []\n",
    "for conversation in conversations [ :-1]:\n",
    "    _conversation = conversation.split (' +++$+++ ')[-1][1:-1].replace(\"'\",\"\").replace(\" \",\"\")\n",
    "    conversations_ids.append(_conversation.split(','))"
   ]
  },
  {
   "cell_type": "code",
   "execution_count": 125,
   "metadata": {},
   "outputs": [],
   "source": [
    "#conversations_ids"
   ]
  },
  {
   "cell_type": "code",
   "execution_count": 126,
   "metadata": {},
   "outputs": [],
   "source": [
    "# getting separately questions and answers\n",
    "\n",
    "questions = [ ]\n",
    "answers = [ ]\n",
    "for conversation in conversations_ids : \n",
    "    for i in range (len(conversation) - 1):\n",
    "        questions.append(id2line[conversation[i]])\n",
    "        answers.append(id2line[conversation[i+1]])"
   ]
  },
  {
   "cell_type": "code",
   "execution_count": 127,
   "metadata": {},
   "outputs": [],
   "source": [
    "#questions"
   ]
  },
  {
   "cell_type": "code",
   "execution_count": 128,
   "metadata": {},
   "outputs": [],
   "source": [
    "#answers"
   ]
  },
  {
   "cell_type": "code",
   "execution_count": 129,
   "metadata": {},
   "outputs": [],
   "source": [
    "# first cleaning of text\n",
    "\n",
    "def clean_text(text):\n",
    "    text = text.lower()\n",
    "    text = re.sub(r\"i'm\",\"i am\",text)\n",
    "    text = re.sub(r\"he's\",\"he is\",text)\n",
    "    text = re.sub(r\"she's\",\"she is\",text)\n",
    "    text = re.sub(r\"that's\",\"that is\",text)\n",
    "    text = re.sub(r\"what's\",\"what is\",text)\n",
    "    text = re.sub(r\"where's\",\"where is\",text)\n",
    "    text = re.sub(r\"won't\",\"will not\",text)\n",
    "    text = re.sub(r\"can't\",\"cannot\",text)\n",
    "    text = re.sub(r\"\\\"ll\",\"will\",text)\n",
    "    text = re.sub(r\"\\\"ve\",\"have\",text)\n",
    "    text = re.sub(r\"\\\"d\",\"would\",text)\n",
    "    text = re.sub(r\"didn't\",\"did not\",text)\n",
    "    text = re.sub(r\"[-()\\\"#*$%&!~|,.?{}+:;<>@/^]\",\"\",text)\n",
    "    return text"
   ]
  },
  {
   "cell_type": "code",
   "execution_count": 130,
   "metadata": {},
   "outputs": [],
   "source": [
    "#cleaning the questions\n",
    "\n",
    "clean_questions = []\n",
    "for question in questions:\n",
    "    clean_questions.append (clean_text(question))"
   ]
  },
  {
   "cell_type": "code",
   "execution_count": 131,
   "metadata": {},
   "outputs": [],
   "source": [
    "# cleaning the answers\n",
    "\n",
    "clean_answers = []\n",
    "for answer in answers:\n",
    "    clean_answers.append(clean_text(answer))"
   ]
  },
  {
   "cell_type": "code",
   "execution_count": 132,
   "metadata": {},
   "outputs": [],
   "source": [
    "#clean_questions"
   ]
  },
  {
   "cell_type": "code",
   "execution_count": 133,
   "metadata": {},
   "outputs": [],
   "source": [
    "#clean_answers"
   ]
  },
  {
   "cell_type": "code",
   "execution_count": 134,
   "metadata": {},
   "outputs": [],
   "source": [
    "# creating a dictionary that maps each word to its occurance in questions and in answers\n",
    "\n",
    "\n",
    "word2count = {}  #making word2count dictionary\n",
    "\n",
    "#for questions\n",
    "\n",
    "for question in clean_questions:\n",
    "    for word in question.split():\n",
    "        if word not in word2count:\n",
    "            word2count [word] = 1\n",
    "        else:\n",
    "            word2count [word] += 1\n",
    "            \n",
    "            \n",
    "#now for answers-\n",
    "for answer in clean_answers:\n",
    "    for word in answer:\n",
    "        if word not in word2count:\n",
    "            word2count[word] = 1\n",
    "        else:\n",
    "            word2count[word] += 1\n",
    "        \n",
    "        "
   ]
  },
  {
   "cell_type": "code",
   "execution_count": 135,
   "metadata": {},
   "outputs": [],
   "source": [
    "# creating two dictionaries that maps the questions word and answers word to a unique integer\n",
    " \n",
    "    \n",
    "    #here we are taking a threshold of word occurance in questions and  in answers\n",
    "  #  if any word is coming below threshold quantity we will exclude that and whose word\n",
    "   # qunatity is greater than the threshold we will take that word.\n",
    "    \n",
    "threshold = 20"
   ]
  },
  {
   "cell_type": "code",
   "execution_count": 136,
   "metadata": {},
   "outputs": [],
   "source": [
    "#making dictionary for questions\n",
    "\n",
    "questionsword2int = {}\n",
    "word_number = 0 #again we are starting from zero\n",
    "for word,count in word2count.items():\n",
    "    if count >= threshold:\n",
    "        questionsword2int[word] = word_number\n",
    "        word_number += 1\n",
    "#making dictionary for answers\n",
    "answersword2int = {}\n",
    "word_number = 0\n",
    "for word,count in word2count.items():\n",
    "    if count >= threshold:\n",
    "        answersword2int[word] = word_number\n",
    "        word_number += 1\n",
    "        \n",
    "            \n"
   ]
  },
  {
   "cell_type": "code",
   "execution_count": 137,
   "metadata": {},
   "outputs": [],
   "source": [
    "# adding the last tokens to the directories\n",
    "\n",
    "tokens = [\"<PAD>\",\"<EOS>\",\"<OUT>\",\"<SOS>\"]\n",
    "\n",
    "for token in tokens:\n",
    "    questionsword2int[token] = len(questionsword2int) +1\n",
    "    \n",
    "for token in tokens:\n",
    "    answersword2int[token] = len(answersword2int) +1"
   ]
  },
  {
   "cell_type": "code",
   "execution_count": 138,
   "metadata": {},
   "outputs": [],
   "source": [
    "# creating the inverse dictionary for answersword2int dictionary to map the words\n",
    "# w - word & w_i - word integer\n",
    "answersints2word = {w_i:w for w,w_i in answersword2int.items()}"
   ]
  },
  {
   "cell_type": "code",
   "execution_count": 139,
   "metadata": {},
   "outputs": [],
   "source": [
    "#answersints2word"
   ]
  },
  {
   "cell_type": "code",
   "execution_count": 140,
   "metadata": {},
   "outputs": [],
   "source": [
    "# adding the end of string token to the end of evry answers\n",
    "# doing beacause EOS needed in the end of decoding in seq2seq model\n",
    "\n",
    "\n",
    "for i in range (len(clean_answers)):\n",
    "    clean_answers[i] += ' <EOS>'"
   ]
  },
  {
   "cell_type": "code",
   "execution_count": 141,
   "metadata": {},
   "outputs": [],
   "source": [
    "#clean_answers"
   ]
  },
  {
   "cell_type": "code",
   "execution_count": 142,
   "metadata": {},
   "outputs": [],
   "source": [
    "# translating all the question and answers in to integer\n",
    "#and replacing all the words that were filtered out by <OUT>\n",
    "# to sort all the questions and answers by their length to optimize training performance"
   ]
  },
  {
   "cell_type": "code",
   "execution_count": 143,
   "metadata": {},
   "outputs": [],
   "source": [
    "#list for changing the words of each question into integer value\n",
    "\n",
    "questions_into_int = []\n",
    "for question in clean_questions:\n",
    "    ints = []\n",
    "    for word in question.split():\n",
    "        if word not in questionsword2int:\n",
    "            ints.append(questionsword2int['<OUT>'])\n",
    "        else:\n",
    "            ints.append(questionsword2int[word])\n",
    "    questions_into_int.append(ints)"
   ]
  },
  {
   "cell_type": "code",
   "execution_count": 144,
   "metadata": {},
   "outputs": [],
   "source": [
    "#list for changing the words of each answer into integer value\n",
    "\n",
    "answers_into_int = []\n",
    "for answer in clean_answers:\n",
    "    ints = []\n",
    "    for word in answer.split():\n",
    "        if word not in questionsword2int:\n",
    "            ints.append(questionsword2int['<OUT>'])\n",
    "        else:\n",
    "            ints.append(questionsword2int[word])\n",
    "    answers_into_int.append(ints)"
   ]
  },
  {
   "cell_type": "code",
   "execution_count": 145,
   "metadata": {},
   "outputs": [],
   "source": [
    "#answers_into_int"
   ]
  },
  {
   "cell_type": "code",
   "execution_count": 146,
   "metadata": {},
   "outputs": [],
   "source": [
    "#questions_into_int"
   ]
  },
  {
   "cell_type": "code",
   "execution_count": 147,
   "metadata": {},
   "outputs": [],
   "source": [
    "#sorting question and answers by the length of question\n",
    "#it will reduce the padding during the training and speedup our training\n",
    "\n",
    "\n",
    "sorted_clean_questions = []\n",
    "sorted_clean_answers = []\n",
    "for length in range (1, 25 + 1):\n",
    "    for i in enumerate(questions_into_int):\n",
    "        if len(i[1])==length:\n",
    "            sorted_clean_questions.append(questions_into_int[i[0]])\n",
    "            sorted_clean_answers.append(answers_into_int[i[0]])"
   ]
  },
  {
   "cell_type": "code",
   "execution_count": 148,
   "metadata": {},
   "outputs": [],
   "source": [
    "#sorted_clean_questions"
   ]
  },
  {
   "cell_type": "code",
   "execution_count": 149,
   "metadata": {},
   "outputs": [],
   "source": [
    "#sorted_clean_answers\n"
   ]
  },
  {
   "cell_type": "raw",
   "metadata": {},
   "source": [
    "# BUILDING SEQ2SEQ MODEL..."
   ]
  },
  {
   "cell_type": "code",
   "execution_count": 150,
   "metadata": {},
   "outputs": [],
   "source": [
    "#Creating placeholders for the inputs and targets"
   ]
  },
  {
   "cell_type": "raw",
   "metadata": {},
   "source": [
    "#tensor - more advance in numpy array and fastest computation\n",
    "#and which place contains tensors that is known as the placeholder (tensorflowplaceholder)"
   ]
  },
  {
   "cell_type": "code",
   "execution_count": 151,
   "metadata": {},
   "outputs": [],
   "source": [
    "def model_inputs():\n",
    "    inputs = tf.placeholder(tf.int32, [None, None], name = \"input\")#create placeholderr for inputs\n",
    "    targets = tf.placeholder(tf.int32,[None,None], name  = \"target\")#create placeholder for targets\n",
    "# making parameter(hyperparameter[learning_rate & keep_prob]) used to control dropout rate\n",
    "# dropouts are the rate of neurons that we are choosed to overwrite during one iteration in training\n",
    "# we are using 20% dropout to deactivate 20% neuron\n",
    "# we increase or decrease dropout by using keep_prob hyperparameter\n",
    "    lr = tf.placeholder(tf.float32, name = 'learning_rate')\n",
    "    keep_prob = tf.placeholder(tf.float32, name = 'keep_prob')\n",
    "    return inputs, targets, lr, keep_prob"
   ]
  },
  {
   "cell_type": "raw",
   "metadata": {},
   "source": [
    "#preprocessing the targets, here we'll make the batches of the targets(answers[must be in batches])\n",
    "# because decoder will decode the batches.(neural nets wont accept the single target)\n",
    "\n",
    "#sentence must start from the SOS(start of the sentence), so we have to make SOS in each answers of each batches to proceed.\n",
    "\n",
    "#so here we create batches and adding SOS tokens."
   ]
  },
  {
   "cell_type": "code",
   "execution_count": 152,
   "metadata": {},
   "outputs": [],
   "source": [
    "def preprocess_targets(targets, word2int, batch_size):\n",
    "    left_side = tf.fill([batch_size, 1], word2int['<SOS>'])\n",
    "    right_side = tf.strided_slice(targets, [0,0],[batch_size, -1],[1,1])\n",
    "    preprocessed_targets = tf.concat([left_side, right_side], 1)\n",
    "    return preprocessed_targets\n",
    "    #batch_size is no. of lines in batch\n",
    "    #strided_slice - extract the subset of tensors\n",
    "    # for horizontal, axis=1 & for vertical, axis=0 "
   ]
  },
  {
   "cell_type": "code",
   "execution_count": 153,
   "metadata": {},
   "outputs": [],
   "source": [
    "# creating the encoder rnn layer"
   ]
  },
  {
   "cell_type": "code",
   "execution_count": 154,
   "metadata": {},
   "outputs": [],
   "source": [
    "def encoder_rnn (rnn_inputs, rnn_size, num_layers, keep_prob, sequence_length):\n",
    "    lstm = tf.contrib.rnn.BasicLSTMCell(rnn_size)\n",
    "    lstm_dropout = tf.contrib.rnn.DropoutWrapper(lstm, input_keep_prob = keep_prob)\n",
    "    encoder_cell = tf.contrib.rnn.MultiRNNCell([lstm_dropout]*num_layers)\n",
    "    # num_layers create encoder cell\n",
    "    # encoder cell consist of several lstm layers\n",
    "    encoder_output, encoder_state = tf.nn.bidirectional_dynamic_rnn(cell_fw = encoder_cell,\n",
    "                                                       cell_bw = encoder_cell,\n",
    "                                                       sequence_length = sequence_length,\n",
    "                                                       inputs = rnn_inputs,\n",
    "                                                       dtype = tf.float32)\n",
    "    # bidirectional_dynamic_rnn take input and build independent forward and backward rnn(input of forward and backward must match)\n",
    "    # _, -indicates that we only want second element returned by this future bidirectional dinemic rnn function\n",
    "    return encoder_state"
   ]
  },
  {
   "cell_type": "code",
   "execution_count": 155,
   "metadata": {
    "scrolled": true
   },
   "outputs": [],
   "source": [
    "#for encoder we only need encoder state and for decoder we only need decoder output\n",
    "# decoding the training set\n"
   ]
  },
  {
   "cell_type": "code",
   "execution_count": 156,
   "metadata": {},
   "outputs": [],
   "source": [
    "def decode_training_set(encoder_state,\n",
    "                        decoder_cell,\n",
    "                        decoder_embedded_input,\n",
    "                        sequence_length,\n",
    "                        decoding_scope,\n",
    "                        output_function,\n",
    "                        keep_probe,\n",
    "                        batch_size):\n",
    "#decoder getting encoder_state as a part of input proceed to decoding\n",
    "#decoder_cell - cell in the rnn of the decoder\n",
    "#embeddings are useful to reduce the dimensoility of categorical variables\n",
    "#embeddings - is a mapping from descrete objects(i.e. words) to vectors of real no.s(uniquiley) \n",
    "#here we roviding i/p to embeddings\n",
    "#decoding_scope - advance data structure that wraps TF variables  \n",
    "\n",
    "    attention_states = tf.zeros([batch_size, 1, decoder_cell.output_size])\n",
    "    #we are processing 3 dimn matrix\n",
    "    \n",
    "    #preprocesses the training data\n",
    "    \n",
    "    attention_keys, attention_values, attention_score_function, attention_construct_function = tf.contrib.seq2seq.prepare_attention(attention_states, attention_option = 'bahdanau', num_units = decoder_cell.output_size)\n",
    "    # attention_keys  = key to compare with target states\n",
    "    #attention_values = values to construct the context vector(return by encoder and used by decoder)\n",
    "    #attention_score_function - used to compute similarity between keys and target_states\n",
    "    # attentio construct_function - used to built attention state\n",
    "    \n",
    "    training_decoder_function = tf.contrib.seq2seq.attention_decoder_fn_train(encoder_state[0],\n",
    "                                                                             attention_keys,\n",
    "                                                                             attention_values,\n",
    "                                                                             attention_score_function,\n",
    "                                                                             attention_construct_function,\n",
    "                                                                             name = \"attn_dec_train\")#this is the name scope for the decoder function\n",
    "    \n",
    "    \n",
    "    decoder_output, decoder_final_state, decoder_final_context_state = tf.dynamic_rnn_decoder(decoder_cell,\n",
    "                                                                                             training_decoder_function,\n",
    "                                                                                             decoder_embedded_input,\n",
    "                                                                                             sequence_length,\n",
    "                                                                                             scope = decoding_scope)\n",
    "    #now we take the droput of the decoder_output\n",
    "    \n",
    "    decoder_output_dropout = tf.nn.dropout(decoder_output, keep_probe)\n",
    "    return output_function(decoder_output_dropout)"
   ]
  },
  {
   "cell_type": "raw",
   "metadata": {},
   "source": [
    "#decoding the test/validation set\n",
    "# we will not use dropout for the test set predictions\n",
    "# here we are using inference function to predict the outcome that is not involved in  \n",
    "#training although we dont backpropagate this,cause we are decoding test set to predict"
   ]
  },
  {
   "cell_type": "code",
   "execution_count": 160,
   "metadata": {},
   "outputs": [],
   "source": [
    "def decode_test_set(encoder_state,\n",
    "                    decoder_cell,\n",
    "                    decoder_embeddings_matrix,\n",
    "                    sos_id,\n",
    "                    eos_id,\n",
    "                    maximum_length,\n",
    "                    num_words,\n",
    "                    sequence_length,\n",
    "                    decoding_scope,\n",
    "                    output_function,\n",
    "                    keep_probe,\n",
    "                    batch_size):\n",
    "    \n",
    "    attention_states = tf.zeros([batch_size, 1, decoder_cell.output_size])\n",
    "    \n",
    "    \n",
    "    attention_keys, attention_values, attention_score_function, attention_construct_function = tf.contrib.seq2seq.prepare_attention(attention_states, attention_option = 'bahdanau', num_units = decoder_cell.output_size)\n",
    "    \n",
    "    \n",
    "    test_decoder_function = tf.contrib.seq2seq.attention_decoder_fn_inference(output_function,\n",
    "                                                                              encoder_state[0],\n",
    "                                                                              attention_keys,\n",
    "                                                                              attention_values,\n",
    "                                                                              attention_score_function,\n",
    "                                                                              attention_construct_function,\n",
    "                                                                              decoder_embeddings_matrix,\n",
    "                                                                              sos_id,\n",
    "                                                                              eos_id,\n",
    "                                                                              maximum_length,\n",
    "                                                                              num_words,\n",
    "                                                                              name = \"attn_dec_inf\")#this is the name scope for the decoder function\n",
    "    \n",
    "    test_predictions, decoder_final_state, decoder_final_context_state = tf.dynamic_rnn_decoder(decoder_cell,\n",
    "                                                                                              test_decoder_function,\n",
    "                                                                                              scope = decoding_scope)\n",
    "                                                                                              \n",
    "                                                                                              \n",
    "                                                                                              \n",
    "                                                                                            \n",
    "                                                                  \n",
    "    return test_predictions\n",
    "    "
   ]
  },
  {
   "cell_type": "raw",
   "metadata": {},
   "source": [
    "# creating the decoder rnn"
   ]
  },
  {
   "cell_type": "code",
   "execution_count": null,
   "metadata": {},
   "outputs": [],
   "source": [
    "def decoder_rnn(decoder_embedded_input,\n",
    "                decoder_embeddings_matrix,\n",
    "                encoder_state,\n",
    "                num_words,\n",
    "                sequence_length,\n",
    "                rnn_size,\n",
    "                num_layers,\n",
    "                word2int,\n",
    "                keep_prob,\n",
    "                batch_size):\n",
    "    with tf.variable_scope(\"decoding\") as decoding_scope:\n",
    "        #create lstm layer\n",
    "        lstm = tf.contrib.rnn.BasicLSTMCell(rnn_size)\n",
    "        #now apply some dropout regulariztion to reduce overfitting and increase the accuracy\n",
    "        lstm_dropout = tf.contrib.rnn.DropoutWrapper(lstm, input_keep_probe = keep_probe)\n",
    "        "
   ]
  }
 ],
 "metadata": {
  "kernelspec": {
   "display_name": "Python 3",
   "language": "python",
   "name": "python3"
  },
  "language_info": {
   "codemirror_mode": {
    "name": "ipython",
    "version": 3
   },
   "file_extension": ".py",
   "mimetype": "text/x-python",
   "name": "python",
   "nbconvert_exporter": "python",
   "pygments_lexer": "ipython3",
   "version": "3.7.3"
  }
 },
 "nbformat": 4,
 "nbformat_minor": 2
}
